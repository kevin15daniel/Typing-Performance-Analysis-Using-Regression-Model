{
  "nbformat": 4,
  "nbformat_minor": 0,
  "metadata": {
    "colab": {
      "provenance": []
    },
    "kernelspec": {
      "name": "python3",
      "display_name": "Python 3"
    },
    "language_info": {
      "name": "python"
    }
  },
  "cells": [
    {
      "cell_type": "code",
      "execution_count": null,
      "metadata": {
        "colab": {
          "base_uri": "https://localhost:8080/",
          "height": 443
        },
        "id": "bBOL9m09tteU",
        "outputId": "9eece4a3-f27f-474e-8705-49e923c11d37"
      },
      "outputs": [
        {
          "output_type": "execute_result",
          "data": {
            "text/plain": [
              "                          _id  isPb    wpm     acc  rawWpm  consistency  \\\n",
              "0    662ca30651ae38ff2d0f882e   NaN  49.19   92.28   56.19        77.38   \n",
              "1    662ca2c451ae38ff2d0f864c   NaN  56.79   90.24   64.79        74.25   \n",
              "2    662ca2af51ae38ff2d0f85b2   NaN  48.40   91.30   54.39        65.59   \n",
              "3    662ca28951ae38ff2d0f847c   NaN  55.18   97.90   56.78        68.57   \n",
              "4    662ca26851ae38ff2d0f838a   NaN  56.00   96.67   59.20        77.49   \n",
              "..                        ...   ...    ...     ...     ...          ...   \n",
              "715  65d0ef562c98ce4374c1ee47  True  49.58   99.20   49.58        79.37   \n",
              "716  65d0ef312c98ce4374c1ece9   NaN  48.79  100.00   48.79        75.47   \n",
              "717  65d0ef092c98ce4374c1eb50   NaN  45.19   96.69   47.99        74.81   \n",
              "718  65d0eee42c98ce4374c1ea04   NaN  44.39   95.93   49.19        76.14   \n",
              "719  65d0eeaf2c98ce4374c1e804  True  49.19   99.19   49.19        71.56   \n",
              "\n",
              "     charStats  mode  mode2  quoteLength  ...  punctuation  numbers  language  \\\n",
              "0    246;9;2;4  time     60           -1  ...        False    False   english   \n",
              "1     71;4;1;0  time     15           -1  ...        False    False   english   \n",
              "2    121;2;6;0  time     30           -1  ...        False    False   english   \n",
              "3    138;1;0;0  time     30           -1  ...        False    False   english   \n",
              "4    140;2;0;0  time     30           -1  ...        False    False   english   \n",
              "..         ...   ...    ...          ...  ...          ...      ...       ...   \n",
              "715  124;0;0;0  time     30           -1  ...        False    False   english   \n",
              "716  122;0;0;0  time     30           -1  ...        False    False   english   \n",
              "717  113;2;0;0  time     30           -1  ...        False    False   english   \n",
              "718  111;3;0;1  time     30           -1  ...        False    False   english   \n",
              "719  123;0;0;0  time     30           -1  ...        False    False   english   \n",
              "\n",
              "     funbox  difficulty  lazyMode blindMode bailedOut tags      timestamp  \n",
              "0      none      normal     False     False     False  NaN  1714201350000  \n",
              "1      none      normal     False     False     False  NaN  1714201284000  \n",
              "2      none      normal     False     False     False  NaN  1714201263000  \n",
              "3      none      normal     False     False     False  NaN  1714201225000  \n",
              "4      none      normal     False     False     False  NaN  1714201192000  \n",
              "..      ...         ...       ...       ...       ...  ...            ...  \n",
              "715    none      normal     False     False     False  NaN  1708191574000  \n",
              "716    none      normal     False     False     False  NaN  1708191537000  \n",
              "717    none      normal     False     False     False  NaN  1708191497000  \n",
              "718    none      normal     False     False     False  NaN  1708191460000  \n",
              "719    none      normal     False     False     False  NaN  1708191407000  \n",
              "\n",
              "[720 rows x 24 columns]"
            ],
            "text/html": [
              "\n",
              "  <div id=\"df-de5ab721-cbab-4cd2-8e72-37cb47e62cab\" class=\"colab-df-container\">\n",
              "    <div>\n",
              "<style scoped>\n",
              "    .dataframe tbody tr th:only-of-type {\n",
              "        vertical-align: middle;\n",
              "    }\n",
              "\n",
              "    .dataframe tbody tr th {\n",
              "        vertical-align: top;\n",
              "    }\n",
              "\n",
              "    .dataframe thead th {\n",
              "        text-align: right;\n",
              "    }\n",
              "</style>\n",
              "<table border=\"1\" class=\"dataframe\">\n",
              "  <thead>\n",
              "    <tr style=\"text-align: right;\">\n",
              "      <th></th>\n",
              "      <th>_id</th>\n",
              "      <th>isPb</th>\n",
              "      <th>wpm</th>\n",
              "      <th>acc</th>\n",
              "      <th>rawWpm</th>\n",
              "      <th>consistency</th>\n",
              "      <th>charStats</th>\n",
              "      <th>mode</th>\n",
              "      <th>mode2</th>\n",
              "      <th>quoteLength</th>\n",
              "      <th>...</th>\n",
              "      <th>punctuation</th>\n",
              "      <th>numbers</th>\n",
              "      <th>language</th>\n",
              "      <th>funbox</th>\n",
              "      <th>difficulty</th>\n",
              "      <th>lazyMode</th>\n",
              "      <th>blindMode</th>\n",
              "      <th>bailedOut</th>\n",
              "      <th>tags</th>\n",
              "      <th>timestamp</th>\n",
              "    </tr>\n",
              "  </thead>\n",
              "  <tbody>\n",
              "    <tr>\n",
              "      <th>0</th>\n",
              "      <td>662ca30651ae38ff2d0f882e</td>\n",
              "      <td>NaN</td>\n",
              "      <td>49.19</td>\n",
              "      <td>92.28</td>\n",
              "      <td>56.19</td>\n",
              "      <td>77.38</td>\n",
              "      <td>246;9;2;4</td>\n",
              "      <td>time</td>\n",
              "      <td>60</td>\n",
              "      <td>-1</td>\n",
              "      <td>...</td>\n",
              "      <td>False</td>\n",
              "      <td>False</td>\n",
              "      <td>english</td>\n",
              "      <td>none</td>\n",
              "      <td>normal</td>\n",
              "      <td>False</td>\n",
              "      <td>False</td>\n",
              "      <td>False</td>\n",
              "      <td>NaN</td>\n",
              "      <td>1714201350000</td>\n",
              "    </tr>\n",
              "    <tr>\n",
              "      <th>1</th>\n",
              "      <td>662ca2c451ae38ff2d0f864c</td>\n",
              "      <td>NaN</td>\n",
              "      <td>56.79</td>\n",
              "      <td>90.24</td>\n",
              "      <td>64.79</td>\n",
              "      <td>74.25</td>\n",
              "      <td>71;4;1;0</td>\n",
              "      <td>time</td>\n",
              "      <td>15</td>\n",
              "      <td>-1</td>\n",
              "      <td>...</td>\n",
              "      <td>False</td>\n",
              "      <td>False</td>\n",
              "      <td>english</td>\n",
              "      <td>none</td>\n",
              "      <td>normal</td>\n",
              "      <td>False</td>\n",
              "      <td>False</td>\n",
              "      <td>False</td>\n",
              "      <td>NaN</td>\n",
              "      <td>1714201284000</td>\n",
              "    </tr>\n",
              "    <tr>\n",
              "      <th>2</th>\n",
              "      <td>662ca2af51ae38ff2d0f85b2</td>\n",
              "      <td>NaN</td>\n",
              "      <td>48.40</td>\n",
              "      <td>91.30</td>\n",
              "      <td>54.39</td>\n",
              "      <td>65.59</td>\n",
              "      <td>121;2;6;0</td>\n",
              "      <td>time</td>\n",
              "      <td>30</td>\n",
              "      <td>-1</td>\n",
              "      <td>...</td>\n",
              "      <td>False</td>\n",
              "      <td>False</td>\n",
              "      <td>english</td>\n",
              "      <td>none</td>\n",
              "      <td>normal</td>\n",
              "      <td>False</td>\n",
              "      <td>False</td>\n",
              "      <td>False</td>\n",
              "      <td>NaN</td>\n",
              "      <td>1714201263000</td>\n",
              "    </tr>\n",
              "    <tr>\n",
              "      <th>3</th>\n",
              "      <td>662ca28951ae38ff2d0f847c</td>\n",
              "      <td>NaN</td>\n",
              "      <td>55.18</td>\n",
              "      <td>97.90</td>\n",
              "      <td>56.78</td>\n",
              "      <td>68.57</td>\n",
              "      <td>138;1;0;0</td>\n",
              "      <td>time</td>\n",
              "      <td>30</td>\n",
              "      <td>-1</td>\n",
              "      <td>...</td>\n",
              "      <td>False</td>\n",
              "      <td>False</td>\n",
              "      <td>english</td>\n",
              "      <td>none</td>\n",
              "      <td>normal</td>\n",
              "      <td>False</td>\n",
              "      <td>False</td>\n",
              "      <td>False</td>\n",
              "      <td>NaN</td>\n",
              "      <td>1714201225000</td>\n",
              "    </tr>\n",
              "    <tr>\n",
              "      <th>4</th>\n",
              "      <td>662ca26851ae38ff2d0f838a</td>\n",
              "      <td>NaN</td>\n",
              "      <td>56.00</td>\n",
              "      <td>96.67</td>\n",
              "      <td>59.20</td>\n",
              "      <td>77.49</td>\n",
              "      <td>140;2;0;0</td>\n",
              "      <td>time</td>\n",
              "      <td>30</td>\n",
              "      <td>-1</td>\n",
              "      <td>...</td>\n",
              "      <td>False</td>\n",
              "      <td>False</td>\n",
              "      <td>english</td>\n",
              "      <td>none</td>\n",
              "      <td>normal</td>\n",
              "      <td>False</td>\n",
              "      <td>False</td>\n",
              "      <td>False</td>\n",
              "      <td>NaN</td>\n",
              "      <td>1714201192000</td>\n",
              "    </tr>\n",
              "    <tr>\n",
              "      <th>...</th>\n",
              "      <td>...</td>\n",
              "      <td>...</td>\n",
              "      <td>...</td>\n",
              "      <td>...</td>\n",
              "      <td>...</td>\n",
              "      <td>...</td>\n",
              "      <td>...</td>\n",
              "      <td>...</td>\n",
              "      <td>...</td>\n",
              "      <td>...</td>\n",
              "      <td>...</td>\n",
              "      <td>...</td>\n",
              "      <td>...</td>\n",
              "      <td>...</td>\n",
              "      <td>...</td>\n",
              "      <td>...</td>\n",
              "      <td>...</td>\n",
              "      <td>...</td>\n",
              "      <td>...</td>\n",
              "      <td>...</td>\n",
              "      <td>...</td>\n",
              "    </tr>\n",
              "    <tr>\n",
              "      <th>715</th>\n",
              "      <td>65d0ef562c98ce4374c1ee47</td>\n",
              "      <td>True</td>\n",
              "      <td>49.58</td>\n",
              "      <td>99.20</td>\n",
              "      <td>49.58</td>\n",
              "      <td>79.37</td>\n",
              "      <td>124;0;0;0</td>\n",
              "      <td>time</td>\n",
              "      <td>30</td>\n",
              "      <td>-1</td>\n",
              "      <td>...</td>\n",
              "      <td>False</td>\n",
              "      <td>False</td>\n",
              "      <td>english</td>\n",
              "      <td>none</td>\n",
              "      <td>normal</td>\n",
              "      <td>False</td>\n",
              "      <td>False</td>\n",
              "      <td>False</td>\n",
              "      <td>NaN</td>\n",
              "      <td>1708191574000</td>\n",
              "    </tr>\n",
              "    <tr>\n",
              "      <th>716</th>\n",
              "      <td>65d0ef312c98ce4374c1ece9</td>\n",
              "      <td>NaN</td>\n",
              "      <td>48.79</td>\n",
              "      <td>100.00</td>\n",
              "      <td>48.79</td>\n",
              "      <td>75.47</td>\n",
              "      <td>122;0;0;0</td>\n",
              "      <td>time</td>\n",
              "      <td>30</td>\n",
              "      <td>-1</td>\n",
              "      <td>...</td>\n",
              "      <td>False</td>\n",
              "      <td>False</td>\n",
              "      <td>english</td>\n",
              "      <td>none</td>\n",
              "      <td>normal</td>\n",
              "      <td>False</td>\n",
              "      <td>False</td>\n",
              "      <td>False</td>\n",
              "      <td>NaN</td>\n",
              "      <td>1708191537000</td>\n",
              "    </tr>\n",
              "    <tr>\n",
              "      <th>717</th>\n",
              "      <td>65d0ef092c98ce4374c1eb50</td>\n",
              "      <td>NaN</td>\n",
              "      <td>45.19</td>\n",
              "      <td>96.69</td>\n",
              "      <td>47.99</td>\n",
              "      <td>74.81</td>\n",
              "      <td>113;2;0;0</td>\n",
              "      <td>time</td>\n",
              "      <td>30</td>\n",
              "      <td>-1</td>\n",
              "      <td>...</td>\n",
              "      <td>False</td>\n",
              "      <td>False</td>\n",
              "      <td>english</td>\n",
              "      <td>none</td>\n",
              "      <td>normal</td>\n",
              "      <td>False</td>\n",
              "      <td>False</td>\n",
              "      <td>False</td>\n",
              "      <td>NaN</td>\n",
              "      <td>1708191497000</td>\n",
              "    </tr>\n",
              "    <tr>\n",
              "      <th>718</th>\n",
              "      <td>65d0eee42c98ce4374c1ea04</td>\n",
              "      <td>NaN</td>\n",
              "      <td>44.39</td>\n",
              "      <td>95.93</td>\n",
              "      <td>49.19</td>\n",
              "      <td>76.14</td>\n",
              "      <td>111;3;0;1</td>\n",
              "      <td>time</td>\n",
              "      <td>30</td>\n",
              "      <td>-1</td>\n",
              "      <td>...</td>\n",
              "      <td>False</td>\n",
              "      <td>False</td>\n",
              "      <td>english</td>\n",
              "      <td>none</td>\n",
              "      <td>normal</td>\n",
              "      <td>False</td>\n",
              "      <td>False</td>\n",
              "      <td>False</td>\n",
              "      <td>NaN</td>\n",
              "      <td>1708191460000</td>\n",
              "    </tr>\n",
              "    <tr>\n",
              "      <th>719</th>\n",
              "      <td>65d0eeaf2c98ce4374c1e804</td>\n",
              "      <td>True</td>\n",
              "      <td>49.19</td>\n",
              "      <td>99.19</td>\n",
              "      <td>49.19</td>\n",
              "      <td>71.56</td>\n",
              "      <td>123;0;0;0</td>\n",
              "      <td>time</td>\n",
              "      <td>30</td>\n",
              "      <td>-1</td>\n",
              "      <td>...</td>\n",
              "      <td>False</td>\n",
              "      <td>False</td>\n",
              "      <td>english</td>\n",
              "      <td>none</td>\n",
              "      <td>normal</td>\n",
              "      <td>False</td>\n",
              "      <td>False</td>\n",
              "      <td>False</td>\n",
              "      <td>NaN</td>\n",
              "      <td>1708191407000</td>\n",
              "    </tr>\n",
              "  </tbody>\n",
              "</table>\n",
              "<p>720 rows × 24 columns</p>\n",
              "</div>\n",
              "    <div class=\"colab-df-buttons\">\n",
              "\n",
              "  <div class=\"colab-df-container\">\n",
              "    <button class=\"colab-df-convert\" onclick=\"convertToInteractive('df-de5ab721-cbab-4cd2-8e72-37cb47e62cab')\"\n",
              "            title=\"Convert this dataframe to an interactive table.\"\n",
              "            style=\"display:none;\">\n",
              "\n",
              "  <svg xmlns=\"http://www.w3.org/2000/svg\" height=\"24px\" viewBox=\"0 -960 960 960\">\n",
              "    <path d=\"M120-120v-720h720v720H120Zm60-500h600v-160H180v160Zm220 220h160v-160H400v160Zm0 220h160v-160H400v160ZM180-400h160v-160H180v160Zm440 0h160v-160H620v160ZM180-180h160v-160H180v160Zm440 0h160v-160H620v160Z\"/>\n",
              "  </svg>\n",
              "    </button>\n",
              "\n",
              "  <style>\n",
              "    .colab-df-container {\n",
              "      display:flex;\n",
              "      gap: 12px;\n",
              "    }\n",
              "\n",
              "    .colab-df-convert {\n",
              "      background-color: #E8F0FE;\n",
              "      border: none;\n",
              "      border-radius: 50%;\n",
              "      cursor: pointer;\n",
              "      display: none;\n",
              "      fill: #1967D2;\n",
              "      height: 32px;\n",
              "      padding: 0 0 0 0;\n",
              "      width: 32px;\n",
              "    }\n",
              "\n",
              "    .colab-df-convert:hover {\n",
              "      background-color: #E2EBFA;\n",
              "      box-shadow: 0px 1px 2px rgba(60, 64, 67, 0.3), 0px 1px 3px 1px rgba(60, 64, 67, 0.15);\n",
              "      fill: #174EA6;\n",
              "    }\n",
              "\n",
              "    .colab-df-buttons div {\n",
              "      margin-bottom: 4px;\n",
              "    }\n",
              "\n",
              "    [theme=dark] .colab-df-convert {\n",
              "      background-color: #3B4455;\n",
              "      fill: #D2E3FC;\n",
              "    }\n",
              "\n",
              "    [theme=dark] .colab-df-convert:hover {\n",
              "      background-color: #434B5C;\n",
              "      box-shadow: 0px 1px 3px 1px rgba(0, 0, 0, 0.15);\n",
              "      filter: drop-shadow(0px 1px 2px rgba(0, 0, 0, 0.3));\n",
              "      fill: #FFFFFF;\n",
              "    }\n",
              "  </style>\n",
              "\n",
              "    <script>\n",
              "      const buttonEl =\n",
              "        document.querySelector('#df-de5ab721-cbab-4cd2-8e72-37cb47e62cab button.colab-df-convert');\n",
              "      buttonEl.style.display =\n",
              "        google.colab.kernel.accessAllowed ? 'block' : 'none';\n",
              "\n",
              "      async function convertToInteractive(key) {\n",
              "        const element = document.querySelector('#df-de5ab721-cbab-4cd2-8e72-37cb47e62cab');\n",
              "        const dataTable =\n",
              "          await google.colab.kernel.invokeFunction('convertToInteractive',\n",
              "                                                    [key], {});\n",
              "        if (!dataTable) return;\n",
              "\n",
              "        const docLinkHtml = 'Like what you see? Visit the ' +\n",
              "          '<a target=\"_blank\" href=https://colab.research.google.com/notebooks/data_table.ipynb>data table notebook</a>'\n",
              "          + ' to learn more about interactive tables.';\n",
              "        element.innerHTML = '';\n",
              "        dataTable['output_type'] = 'display_data';\n",
              "        await google.colab.output.renderOutput(dataTable, element);\n",
              "        const docLink = document.createElement('div');\n",
              "        docLink.innerHTML = docLinkHtml;\n",
              "        element.appendChild(docLink);\n",
              "      }\n",
              "    </script>\n",
              "  </div>\n",
              "\n",
              "\n",
              "<div id=\"df-f886d0ff-1261-4e05-859c-52d848f836d6\">\n",
              "  <button class=\"colab-df-quickchart\" onclick=\"quickchart('df-f886d0ff-1261-4e05-859c-52d848f836d6')\"\n",
              "            title=\"Suggest charts\"\n",
              "            style=\"display:none;\">\n",
              "\n",
              "<svg xmlns=\"http://www.w3.org/2000/svg\" height=\"24px\"viewBox=\"0 0 24 24\"\n",
              "     width=\"24px\">\n",
              "    <g>\n",
              "        <path d=\"M19 3H5c-1.1 0-2 .9-2 2v14c0 1.1.9 2 2 2h14c1.1 0 2-.9 2-2V5c0-1.1-.9-2-2-2zM9 17H7v-7h2v7zm4 0h-2V7h2v10zm4 0h-2v-4h2v4z\"/>\n",
              "    </g>\n",
              "</svg>\n",
              "  </button>\n",
              "\n",
              "<style>\n",
              "  .colab-df-quickchart {\n",
              "      --bg-color: #E8F0FE;\n",
              "      --fill-color: #1967D2;\n",
              "      --hover-bg-color: #E2EBFA;\n",
              "      --hover-fill-color: #174EA6;\n",
              "      --disabled-fill-color: #AAA;\n",
              "      --disabled-bg-color: #DDD;\n",
              "  }\n",
              "\n",
              "  [theme=dark] .colab-df-quickchart {\n",
              "      --bg-color: #3B4455;\n",
              "      --fill-color: #D2E3FC;\n",
              "      --hover-bg-color: #434B5C;\n",
              "      --hover-fill-color: #FFFFFF;\n",
              "      --disabled-bg-color: #3B4455;\n",
              "      --disabled-fill-color: #666;\n",
              "  }\n",
              "\n",
              "  .colab-df-quickchart {\n",
              "    background-color: var(--bg-color);\n",
              "    border: none;\n",
              "    border-radius: 50%;\n",
              "    cursor: pointer;\n",
              "    display: none;\n",
              "    fill: var(--fill-color);\n",
              "    height: 32px;\n",
              "    padding: 0;\n",
              "    width: 32px;\n",
              "  }\n",
              "\n",
              "  .colab-df-quickchart:hover {\n",
              "    background-color: var(--hover-bg-color);\n",
              "    box-shadow: 0 1px 2px rgba(60, 64, 67, 0.3), 0 1px 3px 1px rgba(60, 64, 67, 0.15);\n",
              "    fill: var(--button-hover-fill-color);\n",
              "  }\n",
              "\n",
              "  .colab-df-quickchart-complete:disabled,\n",
              "  .colab-df-quickchart-complete:disabled:hover {\n",
              "    background-color: var(--disabled-bg-color);\n",
              "    fill: var(--disabled-fill-color);\n",
              "    box-shadow: none;\n",
              "  }\n",
              "\n",
              "  .colab-df-spinner {\n",
              "    border: 2px solid var(--fill-color);\n",
              "    border-color: transparent;\n",
              "    border-bottom-color: var(--fill-color);\n",
              "    animation:\n",
              "      spin 1s steps(1) infinite;\n",
              "  }\n",
              "\n",
              "  @keyframes spin {\n",
              "    0% {\n",
              "      border-color: transparent;\n",
              "      border-bottom-color: var(--fill-color);\n",
              "      border-left-color: var(--fill-color);\n",
              "    }\n",
              "    20% {\n",
              "      border-color: transparent;\n",
              "      border-left-color: var(--fill-color);\n",
              "      border-top-color: var(--fill-color);\n",
              "    }\n",
              "    30% {\n",
              "      border-color: transparent;\n",
              "      border-left-color: var(--fill-color);\n",
              "      border-top-color: var(--fill-color);\n",
              "      border-right-color: var(--fill-color);\n",
              "    }\n",
              "    40% {\n",
              "      border-color: transparent;\n",
              "      border-right-color: var(--fill-color);\n",
              "      border-top-color: var(--fill-color);\n",
              "    }\n",
              "    60% {\n",
              "      border-color: transparent;\n",
              "      border-right-color: var(--fill-color);\n",
              "    }\n",
              "    80% {\n",
              "      border-color: transparent;\n",
              "      border-right-color: var(--fill-color);\n",
              "      border-bottom-color: var(--fill-color);\n",
              "    }\n",
              "    90% {\n",
              "      border-color: transparent;\n",
              "      border-bottom-color: var(--fill-color);\n",
              "    }\n",
              "  }\n",
              "</style>\n",
              "\n",
              "  <script>\n",
              "    async function quickchart(key) {\n",
              "      const quickchartButtonEl =\n",
              "        document.querySelector('#' + key + ' button');\n",
              "      quickchartButtonEl.disabled = true;  // To prevent multiple clicks.\n",
              "      quickchartButtonEl.classList.add('colab-df-spinner');\n",
              "      try {\n",
              "        const charts = await google.colab.kernel.invokeFunction(\n",
              "            'suggestCharts', [key], {});\n",
              "      } catch (error) {\n",
              "        console.error('Error during call to suggestCharts:', error);\n",
              "      }\n",
              "      quickchartButtonEl.classList.remove('colab-df-spinner');\n",
              "      quickchartButtonEl.classList.add('colab-df-quickchart-complete');\n",
              "    }\n",
              "    (() => {\n",
              "      let quickchartButtonEl =\n",
              "        document.querySelector('#df-f886d0ff-1261-4e05-859c-52d848f836d6 button');\n",
              "      quickchartButtonEl.style.display =\n",
              "        google.colab.kernel.accessAllowed ? 'block' : 'none';\n",
              "    })();\n",
              "  </script>\n",
              "</div>\n",
              "    </div>\n",
              "  </div>\n"
            ],
            "application/vnd.google.colaboratory.intrinsic+json": {
              "type": "dataframe",
              "variable_name": "df"
            }
          },
          "metadata": {},
          "execution_count": 409
        }
      ],
      "source": [
        "import pandas as pd\n",
        "\n",
        "df = pd.read_csv('MonkeyType.csv')\n",
        "df"
      ]
    },
    {
      "cell_type": "code",
      "source": [
        "missing_values = df.isnull().sum()\n",
        "print('Missing values: \\n', missing_values)"
      ],
      "metadata": {
        "colab": {
          "base_uri": "https://localhost:8080/"
        },
        "id": "MJYqnlDT3p0H",
        "outputId": "f25603b1-8b32-4cdf-9e09-90c553b5c2b0"
      },
      "execution_count": null,
      "outputs": [
        {
          "output_type": "stream",
          "name": "stdout",
          "text": [
            "Missing values: \n",
            " _id                        0\n",
            "isPb                     692\n",
            "wpm                        0\n",
            "acc                        0\n",
            "rawWpm                     0\n",
            "consistency                0\n",
            "charStats                  0\n",
            "mode                       0\n",
            "mode2                      0\n",
            "quoteLength                0\n",
            "restartCount               0\n",
            "testDuration               0\n",
            "afkDuration                0\n",
            "incompleteTestSeconds      0\n",
            "punctuation                0\n",
            "numbers                    0\n",
            "language                   0\n",
            "funbox                     0\n",
            "difficulty                 0\n",
            "lazyMode                   0\n",
            "blindMode                  0\n",
            "bailedOut                  0\n",
            "tags                     720\n",
            "timestamp                  0\n",
            "dtype: int64\n"
          ]
        }
      ]
    },
    {
      "cell_type": "code",
      "source": [
        "import pandas as pd\n",
        "\n",
        "df['_id'] = pd.Categorical(df['_id'])"
      ],
      "metadata": {
        "id": "I979-rrX6Fso"
      },
      "execution_count": null,
      "outputs": []
    },
    {
      "cell_type": "code",
      "source": [
        "df.describe()"
      ],
      "metadata": {
        "colab": {
          "base_uri": "https://localhost:8080/",
          "height": 300
        },
        "id": "WjMaxFOZuqYf",
        "outputId": "5859f02e-ff9c-4c7d-c8fa-73b301b8d19b"
      },
      "execution_count": null,
      "outputs": [
        {
          "output_type": "execute_result",
          "data": {
            "text/plain": [
              "              wpm         acc      rawWpm  consistency       mode2  \\\n",
              "count  720.000000  720.000000  720.000000   720.000000  720.000000   \n",
              "mean    49.845236   96.869792   52.154986    72.296111   30.500000   \n",
              "std      4.669554    3.049172    4.124317     5.455017    7.488517   \n",
              "min     30.000000   80.280000   37.590000    37.010000   15.000000   \n",
              "25%     46.797500   95.410000   49.510000    69.345000   30.000000   \n",
              "50%     49.985000   97.640000   52.000000    72.665000   30.000000   \n",
              "75%     52.790000   99.240000   54.800000    75.962500   30.000000   \n",
              "max     63.990000  100.000000   64.790000    84.770000   60.000000   \n",
              "\n",
              "       quoteLength  restartCount  testDuration  afkDuration  \\\n",
              "count        720.0    720.000000    720.000000      720.000   \n",
              "mean          -1.0      0.001389     30.505694        0.100   \n",
              "std            0.0      0.037268      7.488919        0.389   \n",
              "min           -1.0      0.000000     15.000000        0.000   \n",
              "25%           -1.0      0.000000     30.000000        0.000   \n",
              "50%           -1.0      0.000000     30.000000        0.000   \n",
              "75%           -1.0      0.000000     30.010000        0.000   \n",
              "max           -1.0      1.000000     60.030000        6.000   \n",
              "\n",
              "       incompleteTestSeconds  tags     timestamp  \n",
              "count             720.000000   0.0  7.200000e+02  \n",
              "mean                0.002556   NaN  1.710962e+12  \n",
              "std                 0.068573   NaN  1.801396e+09  \n",
              "min                 0.000000   NaN  1.708191e+12  \n",
              "25%                 0.000000   NaN  1.709319e+12  \n",
              "50%                 0.000000   NaN  1.710942e+12  \n",
              "75%                 0.000000   NaN  1.712411e+12  \n",
              "max                 1.840000   NaN  1.714201e+12  "
            ],
            "text/html": [
              "\n",
              "  <div id=\"df-42039efe-134d-4014-bb33-bcdf4618a338\" class=\"colab-df-container\">\n",
              "    <div>\n",
              "<style scoped>\n",
              "    .dataframe tbody tr th:only-of-type {\n",
              "        vertical-align: middle;\n",
              "    }\n",
              "\n",
              "    .dataframe tbody tr th {\n",
              "        vertical-align: top;\n",
              "    }\n",
              "\n",
              "    .dataframe thead th {\n",
              "        text-align: right;\n",
              "    }\n",
              "</style>\n",
              "<table border=\"1\" class=\"dataframe\">\n",
              "  <thead>\n",
              "    <tr style=\"text-align: right;\">\n",
              "      <th></th>\n",
              "      <th>wpm</th>\n",
              "      <th>acc</th>\n",
              "      <th>rawWpm</th>\n",
              "      <th>consistency</th>\n",
              "      <th>mode2</th>\n",
              "      <th>quoteLength</th>\n",
              "      <th>restartCount</th>\n",
              "      <th>testDuration</th>\n",
              "      <th>afkDuration</th>\n",
              "      <th>incompleteTestSeconds</th>\n",
              "      <th>tags</th>\n",
              "      <th>timestamp</th>\n",
              "    </tr>\n",
              "  </thead>\n",
              "  <tbody>\n",
              "    <tr>\n",
              "      <th>count</th>\n",
              "      <td>720.000000</td>\n",
              "      <td>720.000000</td>\n",
              "      <td>720.000000</td>\n",
              "      <td>720.000000</td>\n",
              "      <td>720.000000</td>\n",
              "      <td>720.0</td>\n",
              "      <td>720.000000</td>\n",
              "      <td>720.000000</td>\n",
              "      <td>720.000</td>\n",
              "      <td>720.000000</td>\n",
              "      <td>0.0</td>\n",
              "      <td>7.200000e+02</td>\n",
              "    </tr>\n",
              "    <tr>\n",
              "      <th>mean</th>\n",
              "      <td>49.845236</td>\n",
              "      <td>96.869792</td>\n",
              "      <td>52.154986</td>\n",
              "      <td>72.296111</td>\n",
              "      <td>30.500000</td>\n",
              "      <td>-1.0</td>\n",
              "      <td>0.001389</td>\n",
              "      <td>30.505694</td>\n",
              "      <td>0.100</td>\n",
              "      <td>0.002556</td>\n",
              "      <td>NaN</td>\n",
              "      <td>1.710962e+12</td>\n",
              "    </tr>\n",
              "    <tr>\n",
              "      <th>std</th>\n",
              "      <td>4.669554</td>\n",
              "      <td>3.049172</td>\n",
              "      <td>4.124317</td>\n",
              "      <td>5.455017</td>\n",
              "      <td>7.488517</td>\n",
              "      <td>0.0</td>\n",
              "      <td>0.037268</td>\n",
              "      <td>7.488919</td>\n",
              "      <td>0.389</td>\n",
              "      <td>0.068573</td>\n",
              "      <td>NaN</td>\n",
              "      <td>1.801396e+09</td>\n",
              "    </tr>\n",
              "    <tr>\n",
              "      <th>min</th>\n",
              "      <td>30.000000</td>\n",
              "      <td>80.280000</td>\n",
              "      <td>37.590000</td>\n",
              "      <td>37.010000</td>\n",
              "      <td>15.000000</td>\n",
              "      <td>-1.0</td>\n",
              "      <td>0.000000</td>\n",
              "      <td>15.000000</td>\n",
              "      <td>0.000</td>\n",
              "      <td>0.000000</td>\n",
              "      <td>NaN</td>\n",
              "      <td>1.708191e+12</td>\n",
              "    </tr>\n",
              "    <tr>\n",
              "      <th>25%</th>\n",
              "      <td>46.797500</td>\n",
              "      <td>95.410000</td>\n",
              "      <td>49.510000</td>\n",
              "      <td>69.345000</td>\n",
              "      <td>30.000000</td>\n",
              "      <td>-1.0</td>\n",
              "      <td>0.000000</td>\n",
              "      <td>30.000000</td>\n",
              "      <td>0.000</td>\n",
              "      <td>0.000000</td>\n",
              "      <td>NaN</td>\n",
              "      <td>1.709319e+12</td>\n",
              "    </tr>\n",
              "    <tr>\n",
              "      <th>50%</th>\n",
              "      <td>49.985000</td>\n",
              "      <td>97.640000</td>\n",
              "      <td>52.000000</td>\n",
              "      <td>72.665000</td>\n",
              "      <td>30.000000</td>\n",
              "      <td>-1.0</td>\n",
              "      <td>0.000000</td>\n",
              "      <td>30.000000</td>\n",
              "      <td>0.000</td>\n",
              "      <td>0.000000</td>\n",
              "      <td>NaN</td>\n",
              "      <td>1.710942e+12</td>\n",
              "    </tr>\n",
              "    <tr>\n",
              "      <th>75%</th>\n",
              "      <td>52.790000</td>\n",
              "      <td>99.240000</td>\n",
              "      <td>54.800000</td>\n",
              "      <td>75.962500</td>\n",
              "      <td>30.000000</td>\n",
              "      <td>-1.0</td>\n",
              "      <td>0.000000</td>\n",
              "      <td>30.010000</td>\n",
              "      <td>0.000</td>\n",
              "      <td>0.000000</td>\n",
              "      <td>NaN</td>\n",
              "      <td>1.712411e+12</td>\n",
              "    </tr>\n",
              "    <tr>\n",
              "      <th>max</th>\n",
              "      <td>63.990000</td>\n",
              "      <td>100.000000</td>\n",
              "      <td>64.790000</td>\n",
              "      <td>84.770000</td>\n",
              "      <td>60.000000</td>\n",
              "      <td>-1.0</td>\n",
              "      <td>1.000000</td>\n",
              "      <td>60.030000</td>\n",
              "      <td>6.000</td>\n",
              "      <td>1.840000</td>\n",
              "      <td>NaN</td>\n",
              "      <td>1.714201e+12</td>\n",
              "    </tr>\n",
              "  </tbody>\n",
              "</table>\n",
              "</div>\n",
              "    <div class=\"colab-df-buttons\">\n",
              "\n",
              "  <div class=\"colab-df-container\">\n",
              "    <button class=\"colab-df-convert\" onclick=\"convertToInteractive('df-42039efe-134d-4014-bb33-bcdf4618a338')\"\n",
              "            title=\"Convert this dataframe to an interactive table.\"\n",
              "            style=\"display:none;\">\n",
              "\n",
              "  <svg xmlns=\"http://www.w3.org/2000/svg\" height=\"24px\" viewBox=\"0 -960 960 960\">\n",
              "    <path d=\"M120-120v-720h720v720H120Zm60-500h600v-160H180v160Zm220 220h160v-160H400v160Zm0 220h160v-160H400v160ZM180-400h160v-160H180v160Zm440 0h160v-160H620v160ZM180-180h160v-160H180v160Zm440 0h160v-160H620v160Z\"/>\n",
              "  </svg>\n",
              "    </button>\n",
              "\n",
              "  <style>\n",
              "    .colab-df-container {\n",
              "      display:flex;\n",
              "      gap: 12px;\n",
              "    }\n",
              "\n",
              "    .colab-df-convert {\n",
              "      background-color: #E8F0FE;\n",
              "      border: none;\n",
              "      border-radius: 50%;\n",
              "      cursor: pointer;\n",
              "      display: none;\n",
              "      fill: #1967D2;\n",
              "      height: 32px;\n",
              "      padding: 0 0 0 0;\n",
              "      width: 32px;\n",
              "    }\n",
              "\n",
              "    .colab-df-convert:hover {\n",
              "      background-color: #E2EBFA;\n",
              "      box-shadow: 0px 1px 2px rgba(60, 64, 67, 0.3), 0px 1px 3px 1px rgba(60, 64, 67, 0.15);\n",
              "      fill: #174EA6;\n",
              "    }\n",
              "\n",
              "    .colab-df-buttons div {\n",
              "      margin-bottom: 4px;\n",
              "    }\n",
              "\n",
              "    [theme=dark] .colab-df-convert {\n",
              "      background-color: #3B4455;\n",
              "      fill: #D2E3FC;\n",
              "    }\n",
              "\n",
              "    [theme=dark] .colab-df-convert:hover {\n",
              "      background-color: #434B5C;\n",
              "      box-shadow: 0px 1px 3px 1px rgba(0, 0, 0, 0.15);\n",
              "      filter: drop-shadow(0px 1px 2px rgba(0, 0, 0, 0.3));\n",
              "      fill: #FFFFFF;\n",
              "    }\n",
              "  </style>\n",
              "\n",
              "    <script>\n",
              "      const buttonEl =\n",
              "        document.querySelector('#df-42039efe-134d-4014-bb33-bcdf4618a338 button.colab-df-convert');\n",
              "      buttonEl.style.display =\n",
              "        google.colab.kernel.accessAllowed ? 'block' : 'none';\n",
              "\n",
              "      async function convertToInteractive(key) {\n",
              "        const element = document.querySelector('#df-42039efe-134d-4014-bb33-bcdf4618a338');\n",
              "        const dataTable =\n",
              "          await google.colab.kernel.invokeFunction('convertToInteractive',\n",
              "                                                    [key], {});\n",
              "        if (!dataTable) return;\n",
              "\n",
              "        const docLinkHtml = 'Like what you see? Visit the ' +\n",
              "          '<a target=\"_blank\" href=https://colab.research.google.com/notebooks/data_table.ipynb>data table notebook</a>'\n",
              "          + ' to learn more about interactive tables.';\n",
              "        element.innerHTML = '';\n",
              "        dataTable['output_type'] = 'display_data';\n",
              "        await google.colab.output.renderOutput(dataTable, element);\n",
              "        const docLink = document.createElement('div');\n",
              "        docLink.innerHTML = docLinkHtml;\n",
              "        element.appendChild(docLink);\n",
              "      }\n",
              "    </script>\n",
              "  </div>\n",
              "\n",
              "\n",
              "<div id=\"df-3edf491a-7fa7-46cb-808b-47db181823b2\">\n",
              "  <button class=\"colab-df-quickchart\" onclick=\"quickchart('df-3edf491a-7fa7-46cb-808b-47db181823b2')\"\n",
              "            title=\"Suggest charts\"\n",
              "            style=\"display:none;\">\n",
              "\n",
              "<svg xmlns=\"http://www.w3.org/2000/svg\" height=\"24px\"viewBox=\"0 0 24 24\"\n",
              "     width=\"24px\">\n",
              "    <g>\n",
              "        <path d=\"M19 3H5c-1.1 0-2 .9-2 2v14c0 1.1.9 2 2 2h14c1.1 0 2-.9 2-2V5c0-1.1-.9-2-2-2zM9 17H7v-7h2v7zm4 0h-2V7h2v10zm4 0h-2v-4h2v4z\"/>\n",
              "    </g>\n",
              "</svg>\n",
              "  </button>\n",
              "\n",
              "<style>\n",
              "  .colab-df-quickchart {\n",
              "      --bg-color: #E8F0FE;\n",
              "      --fill-color: #1967D2;\n",
              "      --hover-bg-color: #E2EBFA;\n",
              "      --hover-fill-color: #174EA6;\n",
              "      --disabled-fill-color: #AAA;\n",
              "      --disabled-bg-color: #DDD;\n",
              "  }\n",
              "\n",
              "  [theme=dark] .colab-df-quickchart {\n",
              "      --bg-color: #3B4455;\n",
              "      --fill-color: #D2E3FC;\n",
              "      --hover-bg-color: #434B5C;\n",
              "      --hover-fill-color: #FFFFFF;\n",
              "      --disabled-bg-color: #3B4455;\n",
              "      --disabled-fill-color: #666;\n",
              "  }\n",
              "\n",
              "  .colab-df-quickchart {\n",
              "    background-color: var(--bg-color);\n",
              "    border: none;\n",
              "    border-radius: 50%;\n",
              "    cursor: pointer;\n",
              "    display: none;\n",
              "    fill: var(--fill-color);\n",
              "    height: 32px;\n",
              "    padding: 0;\n",
              "    width: 32px;\n",
              "  }\n",
              "\n",
              "  .colab-df-quickchart:hover {\n",
              "    background-color: var(--hover-bg-color);\n",
              "    box-shadow: 0 1px 2px rgba(60, 64, 67, 0.3), 0 1px 3px 1px rgba(60, 64, 67, 0.15);\n",
              "    fill: var(--button-hover-fill-color);\n",
              "  }\n",
              "\n",
              "  .colab-df-quickchart-complete:disabled,\n",
              "  .colab-df-quickchart-complete:disabled:hover {\n",
              "    background-color: var(--disabled-bg-color);\n",
              "    fill: var(--disabled-fill-color);\n",
              "    box-shadow: none;\n",
              "  }\n",
              "\n",
              "  .colab-df-spinner {\n",
              "    border: 2px solid var(--fill-color);\n",
              "    border-color: transparent;\n",
              "    border-bottom-color: var(--fill-color);\n",
              "    animation:\n",
              "      spin 1s steps(1) infinite;\n",
              "  }\n",
              "\n",
              "  @keyframes spin {\n",
              "    0% {\n",
              "      border-color: transparent;\n",
              "      border-bottom-color: var(--fill-color);\n",
              "      border-left-color: var(--fill-color);\n",
              "    }\n",
              "    20% {\n",
              "      border-color: transparent;\n",
              "      border-left-color: var(--fill-color);\n",
              "      border-top-color: var(--fill-color);\n",
              "    }\n",
              "    30% {\n",
              "      border-color: transparent;\n",
              "      border-left-color: var(--fill-color);\n",
              "      border-top-color: var(--fill-color);\n",
              "      border-right-color: var(--fill-color);\n",
              "    }\n",
              "    40% {\n",
              "      border-color: transparent;\n",
              "      border-right-color: var(--fill-color);\n",
              "      border-top-color: var(--fill-color);\n",
              "    }\n",
              "    60% {\n",
              "      border-color: transparent;\n",
              "      border-right-color: var(--fill-color);\n",
              "    }\n",
              "    80% {\n",
              "      border-color: transparent;\n",
              "      border-right-color: var(--fill-color);\n",
              "      border-bottom-color: var(--fill-color);\n",
              "    }\n",
              "    90% {\n",
              "      border-color: transparent;\n",
              "      border-bottom-color: var(--fill-color);\n",
              "    }\n",
              "  }\n",
              "</style>\n",
              "\n",
              "  <script>\n",
              "    async function quickchart(key) {\n",
              "      const quickchartButtonEl =\n",
              "        document.querySelector('#' + key + ' button');\n",
              "      quickchartButtonEl.disabled = true;  // To prevent multiple clicks.\n",
              "      quickchartButtonEl.classList.add('colab-df-spinner');\n",
              "      try {\n",
              "        const charts = await google.colab.kernel.invokeFunction(\n",
              "            'suggestCharts', [key], {});\n",
              "      } catch (error) {\n",
              "        console.error('Error during call to suggestCharts:', error);\n",
              "      }\n",
              "      quickchartButtonEl.classList.remove('colab-df-spinner');\n",
              "      quickchartButtonEl.classList.add('colab-df-quickchart-complete');\n",
              "    }\n",
              "    (() => {\n",
              "      let quickchartButtonEl =\n",
              "        document.querySelector('#df-3edf491a-7fa7-46cb-808b-47db181823b2 button');\n",
              "      quickchartButtonEl.style.display =\n",
              "        google.colab.kernel.accessAllowed ? 'block' : 'none';\n",
              "    })();\n",
              "  </script>\n",
              "</div>\n",
              "    </div>\n",
              "  </div>\n"
            ],
            "application/vnd.google.colaboratory.intrinsic+json": {
              "type": "dataframe",
              "summary": "{\n  \"name\": \"df\",\n  \"rows\": 8,\n  \"fields\": [\n    {\n      \"column\": \"wpm\",\n      \"properties\": {\n        \"dtype\": \"number\",\n        \"std\": 240.18332036263783,\n        \"min\": 4.669553942217428,\n        \"max\": 720.0,\n        \"num_unique_values\": 8,\n        \"samples\": [\n          49.8452361111111,\n          49.985,\n          720.0\n        ],\n        \"semantic_type\": \"\",\n        \"description\": \"\"\n      }\n    },\n    {\n      \"column\": \"acc\",\n      \"properties\": {\n        \"dtype\": \"number\",\n        \"std\": 228.00600945139752,\n        \"min\": 3.04917236513595,\n        \"max\": 720.0,\n        \"num_unique_values\": 8,\n        \"samples\": [\n          96.86979166666667,\n          97.64,\n          720.0\n        ],\n        \"semantic_type\": \"\",\n        \"description\": \"\"\n      }\n    },\n    {\n      \"column\": \"rawWpm\",\n      \"properties\": {\n        \"dtype\": \"number\",\n        \"std\": 239.34762601381087,\n        \"min\": 4.124317080041156,\n        \"max\": 720.0,\n        \"num_unique_values\": 8,\n        \"samples\": [\n          52.15498611111111,\n          52.0,\n          720.0\n        ],\n        \"semantic_type\": \"\",\n        \"description\": \"\"\n      }\n    },\n    {\n      \"column\": \"consistency\",\n      \"properties\": {\n        \"dtype\": \"number\",\n        \"std\": 234.92615790797987,\n        \"min\": 5.455016513402111,\n        \"max\": 720.0,\n        \"num_unique_values\": 8,\n        \"samples\": [\n          72.29611111111112,\n          72.665,\n          720.0\n        ],\n        \"semantic_type\": \"\",\n        \"description\": \"\"\n      }\n    },\n    {\n      \"column\": \"mode2\",\n      \"properties\": {\n        \"dtype\": \"number\",\n        \"std\": 244.78061681714902,\n        \"min\": 7.488516939468862,\n        \"max\": 720.0,\n        \"num_unique_values\": 6,\n        \"samples\": [\n          720.0,\n          30.5,\n          60.0\n        ],\n        \"semantic_type\": \"\",\n        \"description\": \"\"\n      }\n    },\n    {\n      \"column\": \"quoteLength\",\n      \"properties\": {\n        \"dtype\": \"number\",\n        \"std\": 254.8617272169362,\n        \"min\": -1.0,\n        \"max\": 720.0,\n        \"num_unique_values\": 3,\n        \"samples\": [\n          720.0,\n          -1.0,\n          0.0\n        ],\n        \"semantic_type\": \"\",\n        \"description\": \"\"\n      }\n    },\n    {\n      \"column\": \"restartCount\",\n      \"properties\": {\n        \"dtype\": \"number\",\n        \"std\": 254.50621893494102,\n        \"min\": 0.0,\n        \"max\": 720.0,\n        \"num_unique_values\": 5,\n        \"samples\": [\n          0.001388888888888889,\n          1.0,\n          0.037267799624996496\n        ],\n        \"semantic_type\": \"\",\n        \"description\": \"\"\n      }\n    },\n    {\n      \"column\": \"testDuration\",\n      \"properties\": {\n        \"dtype\": \"number\",\n        \"std\": 244.77884190785136,\n        \"min\": 7.488918902758732,\n        \"max\": 720.0,\n        \"num_unique_values\": 7,\n        \"samples\": [\n          720.0,\n          30.505694444444444,\n          30.01\n        ],\n        \"semantic_type\": \"\",\n        \"description\": \"\"\n      }\n    },\n    {\n      \"column\": \"afkDuration\",\n      \"properties\": {\n        \"dtype\": \"number\",\n        \"std\": 254.2391668898439,\n        \"min\": 0.0,\n        \"max\": 720.0,\n        \"num_unique_values\": 5,\n        \"samples\": [\n          0.1,\n          6.0,\n          0.38900035932494637\n        ],\n        \"semantic_type\": \"\",\n        \"description\": \"\"\n      }\n    },\n    {\n      \"column\": \"incompleteTestSeconds\",\n      \"properties\": {\n        \"dtype\": \"number\",\n        \"std\": 254.4627198802808,\n        \"min\": 0.0,\n        \"max\": 720.0,\n        \"num_unique_values\": 5,\n        \"samples\": [\n          0.0025555555555555557,\n          1.84,\n          0.06857275130999355\n        ],\n        \"semantic_type\": \"\",\n        \"description\": \"\"\n      }\n    },\n    {\n      \"column\": \"tags\",\n      \"properties\": {\n        \"dtype\": \"number\",\n        \"std\": null,\n        \"min\": 0.0,\n        \"max\": 0.0,\n        \"num_unique_values\": 1,\n        \"samples\": [\n          0.0\n        ],\n        \"semantic_type\": \"\",\n        \"description\": \"\"\n      }\n    },\n    {\n      \"column\": \"timestamp\",\n      \"properties\": {\n        \"dtype\": \"number\",\n        \"std\": 791626458201.347,\n        \"min\": 720.0,\n        \"max\": 1714201350000.0,\n        \"num_unique_values\": 8,\n        \"samples\": [\n          1710961525302.7778\n        ],\n        \"semantic_type\": \"\",\n        \"description\": \"\"\n      }\n    }\n  ]\n}"
            }
          },
          "metadata": {},
          "execution_count": 412
        }
      ]
    },
    {
      "cell_type": "code",
      "source": [
        "x = df[['wpm', 'acc', 'rawWpm', 'consistency']]\n",
        "y = df['timestamp']"
      ],
      "metadata": {
        "id": "xdOkd14L32eg"
      },
      "execution_count": null,
      "outputs": []
    },
    {
      "cell_type": "code",
      "source": [
        "print(x)"
      ],
      "metadata": {
        "colab": {
          "base_uri": "https://localhost:8080/"
        },
        "id": "SOVuiCov49Iv",
        "outputId": "0d3c900d-e1ae-4821-d305-abf11af08c37"
      },
      "execution_count": null,
      "outputs": [
        {
          "output_type": "stream",
          "name": "stdout",
          "text": [
            "       wpm     acc  rawWpm  consistency\n",
            "0    49.19   92.28   56.19        77.38\n",
            "1    56.79   90.24   64.79        74.25\n",
            "2    48.40   91.30   54.39        65.59\n",
            "3    55.18   97.90   56.78        68.57\n",
            "4    56.00   96.67   59.20        77.49\n",
            "..     ...     ...     ...          ...\n",
            "715  49.58   99.20   49.58        79.37\n",
            "716  48.79  100.00   48.79        75.47\n",
            "717  45.19   96.69   47.99        74.81\n",
            "718  44.39   95.93   49.19        76.14\n",
            "719  49.19   99.19   49.19        71.56\n",
            "\n",
            "[720 rows x 4 columns]\n"
          ]
        }
      ]
    },
    {
      "cell_type": "code",
      "source": [
        "print(y)"
      ],
      "metadata": {
        "colab": {
          "base_uri": "https://localhost:8080/"
        },
        "id": "0c-CSksu5Au_",
        "outputId": "199749ac-5f1b-45e2-d847-fc50ef61187d"
      },
      "execution_count": null,
      "outputs": [
        {
          "output_type": "stream",
          "name": "stdout",
          "text": [
            "0      1714201350000\n",
            "1      1714201284000\n",
            "2      1714201263000\n",
            "3      1714201225000\n",
            "4      1714201192000\n",
            "           ...      \n",
            "715    1708191574000\n",
            "716    1708191537000\n",
            "717    1708191497000\n",
            "718    1708191460000\n",
            "719    1708191407000\n",
            "Name: timestamp, Length: 720, dtype: int64\n"
          ]
        }
      ]
    },
    {
      "cell_type": "code",
      "source": [
        "from sklearn.linear_model import LinearRegression\n",
        "\n",
        "model = LinearRegression()\n",
        "model"
      ],
      "metadata": {
        "colab": {
          "base_uri": "https://localhost:8080/",
          "height": 74
        },
        "id": "LYo_vyzbAcva",
        "outputId": "b0d224df-ace3-4793-972a-5ad16613b855"
      },
      "execution_count": null,
      "outputs": [
        {
          "output_type": "execute_result",
          "data": {
            "text/plain": [
              "LinearRegression()"
            ],
            "text/html": [
              "<style>#sk-container-id-8 {color: black;background-color: white;}#sk-container-id-8 pre{padding: 0;}#sk-container-id-8 div.sk-toggleable {background-color: white;}#sk-container-id-8 label.sk-toggleable__label {cursor: pointer;display: block;width: 100%;margin-bottom: 0;padding: 0.3em;box-sizing: border-box;text-align: center;}#sk-container-id-8 label.sk-toggleable__label-arrow:before {content: \"▸\";float: left;margin-right: 0.25em;color: #696969;}#sk-container-id-8 label.sk-toggleable__label-arrow:hover:before {color: black;}#sk-container-id-8 div.sk-estimator:hover label.sk-toggleable__label-arrow:before {color: black;}#sk-container-id-8 div.sk-toggleable__content {max-height: 0;max-width: 0;overflow: hidden;text-align: left;background-color: #f0f8ff;}#sk-container-id-8 div.sk-toggleable__content pre {margin: 0.2em;color: black;border-radius: 0.25em;background-color: #f0f8ff;}#sk-container-id-8 input.sk-toggleable__control:checked~div.sk-toggleable__content {max-height: 200px;max-width: 100%;overflow: auto;}#sk-container-id-8 input.sk-toggleable__control:checked~label.sk-toggleable__label-arrow:before {content: \"▾\";}#sk-container-id-8 div.sk-estimator input.sk-toggleable__control:checked~label.sk-toggleable__label {background-color: #d4ebff;}#sk-container-id-8 div.sk-label input.sk-toggleable__control:checked~label.sk-toggleable__label {background-color: #d4ebff;}#sk-container-id-8 input.sk-hidden--visually {border: 0;clip: rect(1px 1px 1px 1px);clip: rect(1px, 1px, 1px, 1px);height: 1px;margin: -1px;overflow: hidden;padding: 0;position: absolute;width: 1px;}#sk-container-id-8 div.sk-estimator {font-family: monospace;background-color: #f0f8ff;border: 1px dotted black;border-radius: 0.25em;box-sizing: border-box;margin-bottom: 0.5em;}#sk-container-id-8 div.sk-estimator:hover {background-color: #d4ebff;}#sk-container-id-8 div.sk-parallel-item::after {content: \"\";width: 100%;border-bottom: 1px solid gray;flex-grow: 1;}#sk-container-id-8 div.sk-label:hover label.sk-toggleable__label {background-color: #d4ebff;}#sk-container-id-8 div.sk-serial::before {content: \"\";position: absolute;border-left: 1px solid gray;box-sizing: border-box;top: 0;bottom: 0;left: 50%;z-index: 0;}#sk-container-id-8 div.sk-serial {display: flex;flex-direction: column;align-items: center;background-color: white;padding-right: 0.2em;padding-left: 0.2em;position: relative;}#sk-container-id-8 div.sk-item {position: relative;z-index: 1;}#sk-container-id-8 div.sk-parallel {display: flex;align-items: stretch;justify-content: center;background-color: white;position: relative;}#sk-container-id-8 div.sk-item::before, #sk-container-id-8 div.sk-parallel-item::before {content: \"\";position: absolute;border-left: 1px solid gray;box-sizing: border-box;top: 0;bottom: 0;left: 50%;z-index: -1;}#sk-container-id-8 div.sk-parallel-item {display: flex;flex-direction: column;z-index: 1;position: relative;background-color: white;}#sk-container-id-8 div.sk-parallel-item:first-child::after {align-self: flex-end;width: 50%;}#sk-container-id-8 div.sk-parallel-item:last-child::after {align-self: flex-start;width: 50%;}#sk-container-id-8 div.sk-parallel-item:only-child::after {width: 0;}#sk-container-id-8 div.sk-dashed-wrapped {border: 1px dashed gray;margin: 0 0.4em 0.5em 0.4em;box-sizing: border-box;padding-bottom: 0.4em;background-color: white;}#sk-container-id-8 div.sk-label label {font-family: monospace;font-weight: bold;display: inline-block;line-height: 1.2em;}#sk-container-id-8 div.sk-label-container {text-align: center;}#sk-container-id-8 div.sk-container {/* jupyter's `normalize.less` sets `[hidden] { display: none; }` but bootstrap.min.css set `[hidden] { display: none !important; }` so we also need the `!important` here to be able to override the default hidden behavior on the sphinx rendered scikit-learn.org. See: https://github.com/scikit-learn/scikit-learn/issues/21755 */display: inline-block !important;position: relative;}#sk-container-id-8 div.sk-text-repr-fallback {display: none;}</style><div id=\"sk-container-id-8\" class=\"sk-top-container\"><div class=\"sk-text-repr-fallback\"><pre>LinearRegression()</pre><b>In a Jupyter environment, please rerun this cell to show the HTML representation or trust the notebook. <br />On GitHub, the HTML representation is unable to render, please try loading this page with nbviewer.org.</b></div><div class=\"sk-container\" hidden><div class=\"sk-item\"><div class=\"sk-estimator sk-toggleable\"><input class=\"sk-toggleable__control sk-hidden--visually\" id=\"sk-estimator-id-8\" type=\"checkbox\" checked><label for=\"sk-estimator-id-8\" class=\"sk-toggleable__label sk-toggleable__label-arrow\">LinearRegression</label><div class=\"sk-toggleable__content\"><pre>LinearRegression()</pre></div></div></div></div></div>"
            ]
          },
          "metadata": {},
          "execution_count": 416
        }
      ]
    },
    {
      "cell_type": "code",
      "source": [
        "from sklearn.model_selection import train_test_split\n",
        "\n",
        "x_train, x_test, y_train, y_test = train_test_split(x, y, test_size=0.2, random_state=42)\n",
        "\n",
        "model.fit(x_train, y_train)\n",
        "y_pred = model.predict(x_test)"
      ],
      "metadata": {
        "id": "83DIgKOw4A4n"
      },
      "execution_count": null,
      "outputs": []
    },
    {
      "cell_type": "code",
      "source": [
        "from sklearn.metrics import mean_squared_error\n",
        "\n",
        "mse = mean_squared_error(y_test, y_pred)\n",
        "print('Mean Squared Error (MSE): {:.2f}'.format(mse))"
      ],
      "metadata": {
        "colab": {
          "base_uri": "https://localhost:8080/"
        },
        "id": "md-5JxP_63lP",
        "outputId": "4c6c580e-69f4-49a6-93d4-129432637662"
      },
      "execution_count": null,
      "outputs": [
        {
          "output_type": "stream",
          "name": "stdout",
          "text": [
            "Mean Squared Error (MSE): 2489327021491947008.00\n"
          ]
        }
      ]
    },
    {
      "cell_type": "code",
      "source": [
        "from sklearn.metrics import mean_squared_error\n",
        "import numpy as np\n",
        "\n",
        "rmse = np.sqrt(mean_squared_error(y_test, y_pred))\n",
        "print('Root Mean Squared Error (RMSE): {:.2f}'.format(rmse))"
      ],
      "metadata": {
        "colab": {
          "base_uri": "https://localhost:8080/"
        },
        "id": "k-ORIY9C7Ia_",
        "outputId": "a3345119-5ed4-4dfd-cefe-a052d958dd06"
      },
      "execution_count": null,
      "outputs": [
        {
          "output_type": "stream",
          "name": "stdout",
          "text": [
            "Root Mean Squared Error (RMSE): 1577760128.00\n"
          ]
        }
      ]
    },
    {
      "cell_type": "code",
      "source": [
        "import numpy as np\n",
        "\n",
        "sse = np.sum((y_test - y_pred) ** 2)\n",
        "print('Sum of Squared Error (SSE): {:.2f}'.format(sse))"
      ],
      "metadata": {
        "colab": {
          "base_uri": "https://localhost:8080/"
        },
        "id": "VDcAjt9Z7Zvv",
        "outputId": "89251f4e-0678-45ef-8390-bf08d91e6db4"
      },
      "execution_count": null,
      "outputs": [
        {
          "output_type": "stream",
          "name": "stdout",
          "text": [
            "Sum of Squared Error (SSE): 358463091094840344576.00\n"
          ]
        }
      ]
    },
    {
      "cell_type": "code",
      "source": [
        "r2 = model.score(x_test, y_test)\n",
        "print('Coefficient of Determination (R2):', round(r2, 2))"
      ],
      "metadata": {
        "colab": {
          "base_uri": "https://localhost:8080/"
        },
        "id": "2DeZ7QTz8IFX",
        "outputId": "0b544223-7a74-4d0b-ea06-0241db10eab6"
      },
      "execution_count": null,
      "outputs": [
        {
          "output_type": "stream",
          "name": "stdout",
          "text": [
            "Coefficient of Determination (R2): 0.22\n"
          ]
        }
      ]
    },
    {
      "cell_type": "code",
      "source": [
        "import matplotlib.pyplot as plt\n",
        "import pandas as pd\n",
        "\n",
        "x = df[['wpm']]\n",
        "y = df['rawWpm']\n",
        "\n",
        "model.fit(x, y)\n",
        "y_pred = model.predict(x)\n",
        "\n",
        "plt.scatter(x, y, color='blue', marker='.')\n",
        "plt.plot(x, y_pred, color='red')\n",
        "plt.xlabel('WPM (x)')\n",
        "plt.ylabel('rawWPM (y)')\n",
        "plt.title('Regression Analysis of WPM vs rawWPM')\n",
        "plt.show()"
      ],
      "metadata": {
        "colab": {
          "base_uri": "https://localhost:8080/",
          "height": 472
        },
        "id": "_P0nZS0D8Ox_",
        "outputId": "cc8e7ab8-950a-49f7-90ae-6052d75bf5d3"
      },
      "execution_count": null,
      "outputs": [
        {
          "output_type": "display_data",
          "data": {
            "text/plain": [
              "<Figure size 640x480 with 1 Axes>"
            ],
            "image/png": "[encoded data removed]"
          },
          "metadata": {}
        }
      ]
    },
    {
      "cell_type": "code",
      "source": [
        "import matplotlib.pyplot as plt\n",
        "import pandas as pd\n",
        "\n",
        "x = df[['wpm']]\n",
        "y = df['rawWpm']\n",
        "\n",
        "plt.scatter(x, y, color='red', marker='.', label='WPM')\n",
        "plt.scatter(y, x, color='green', marker='.', label='rawWPM')\n",
        "\n",
        "plt.xlabel('WPM (x)')\n",
        "plt.ylabel('rawWPM (y)')\n",
        "plt.title('Comparison of WPM and rawWPM')\n",
        "plt.legend()\n",
        "plt.show()"
      ],
      "metadata": {
        "colab": {
          "base_uri": "https://localhost:8080/",
          "height": 472
        },
        "id": "roDvIcQXCKh-",
        "outputId": "47b27840-e87d-4981-9215-beb22303f462"
      },
      "execution_count": null,
      "outputs": [
        {
          "output_type": "display_data",
          "data": {
            "text/plain": [
              "<Figure size 640x480 with 1 Axes>"
            ],
            "image/png": "[encoded data removed]"
          },
          "metadata": {}
        }
      ]
    },
    {
      "cell_type": "code",
      "source": [
        "import matplotlib.pyplot as plt\n",
        "import pandas as pd\n",
        "\n",
        "x = df['wpm']\n",
        "y = df['rawWpm']\n",
        "\n",
        "plt.hist(x, color='red', alpha=0.8, label='WPM')\n",
        "plt.hist(y, color='green', alpha=0.8, label='rawWPM')\n",
        "\n",
        "plt.xlabel('Accuracy (x)')\n",
        "plt.ylabel('Consistency (y)')\n",
        "plt.title('Comparison of WPM and rawWPM')\n",
        "plt.legend()\n",
        "plt.show()"
      ],
      "metadata": {
        "colab": {
          "base_uri": "https://localhost:8080/",
          "height": 472
        },
        "id": "zUNW-B8nIXou",
        "outputId": "cacf37c8-7247-4c92-9f7c-780f3055a3b8"
      },
      "execution_count": null,
      "outputs": [
        {
          "output_type": "display_data",
          "data": {
            "text/plain": [
              "<Figure size 640x480 with 1 Axes>"
            ],
            "image/png": "[encoded data removed]"
          },
          "metadata": {}
        }
      ]
    },
    {
      "cell_type": "code",
      "source": [
        "import matplotlib.pyplot as plt\n",
        "import pandas as pd\n",
        "\n",
        "x = df[['acc']]\n",
        "y = df['consistency']\n",
        "\n",
        "model.fit(x, y)\n",
        "y_pred = model.predict(x)\n",
        "\n",
        "plt.scatter(x, y, color='blue', marker='.')\n",
        "plt.plot(x, y_pred, color='red')\n",
        "plt.xlabel('Accuracy (x)')\n",
        "plt.ylabel('Consistency (y)')\n",
        "plt.title('Regression Analysis of ACC vs CONSISTENCY')\n",
        "plt.show()"
      ],
      "metadata": {
        "colab": {
          "base_uri": "https://localhost:8080/",
          "height": 472
        },
        "id": "NEbDoXgkEYze",
        "outputId": "4a364c4e-0407-4c64-9fdd-b754728df1fc"
      },
      "execution_count": null,
      "outputs": [
        {
          "output_type": "display_data",
          "data": {
            "text/plain": [
              "<Figure size 640x480 with 1 Axes>"
            ],
            "image/png": "[encoded data removed]"
          },
          "metadata": {}
        }
      ]
    },
    {
      "cell_type": "code",
      "source": [
        "import matplotlib.pyplot as plt\n",
        "import pandas as pd\n",
        "\n",
        "x = df[['acc']]\n",
        "y = df['consistency']\n",
        "\n",
        "plt.scatter(x, y, color='red', marker='.', label='Accuracy')\n",
        "plt.scatter(y, x, color='green', marker='.', label='Consistency')\n",
        "\n",
        "plt.xlabel('Accuracy (x)')\n",
        "plt.ylabel('Consistency (y)')\n",
        "plt.title('Comparison of ACC and CONSISTENCY')\n",
        "plt.legend()\n",
        "plt.show()"
      ],
      "metadata": {
        "colab": {
          "base_uri": "https://localhost:8080/",
          "height": 472
        },
        "id": "Fd0KNldqDLJv",
        "outputId": "41a3ba80-2e32-4538-96b3-2386c39d82ea"
      },
      "execution_count": null,
      "outputs": [
        {
          "output_type": "display_data",
          "data": {
            "text/plain": [
              "<Figure size 640x480 with 1 Axes>"
            ],
            "image/png": "[encoded data removed]"
          },
          "metadata": {}
        }
      ]
    },
    {
      "cell_type": "code",
      "source": [
        "import matplotlib.pyplot as plt\n",
        "import pandas as pd\n",
        "\n",
        "x = df['acc']\n",
        "y = df['consistency']\n",
        "\n",
        "plt.hist(x, color='red', alpha=0.8, label='Accuracy')\n",
        "plt.hist(y, color='green', alpha=0.8, label='Consistency')\n",
        "\n",
        "plt.xlabel('Accuracy (x)')\n",
        "plt.ylabel('Consistency (y)')\n",
        "plt.title('Comparison of ACC and CONSISTENCY')\n",
        "plt.legend()\n",
        "plt.show()"
      ],
      "metadata": {
        "colab": {
          "base_uri": "https://localhost:8080/",
          "height": 472
        },
        "id": "YajXIK3pJkP_",
        "outputId": "3e119b05-1bf5-45d1-faea-79a7d6fb2af3"
      },
      "execution_count": null,
      "outputs": [
        {
          "output_type": "display_data",
          "data": {
            "text/plain": [
              "<Figure size 640x480 with 1 Axes>"
            ],
            "image/png": "[encoded data removed]"
          },
          "metadata": {}
        }
      ]
    },
    {
      "cell_type": "code",
      "source": [
        "input_value = int(input('Enter the CSV dataset: '))\n",
        "predicted_value = sse + r2 * input_value\n",
        "print('The predicted value for input {0} is {1}'.format(input_value, predicted_value))"
      ],
      "metadata": {
        "colab": {
          "base_uri": "https://localhost:8080/"
        },
        "id": "r1TYerG69qB_",
        "outputId": "f8319315-5227-42c7-e734-a5be7e19d487"
      },
      "execution_count": null,
      "outputs": [
        {
          "output_type": "stream",
          "name": "stdout",
          "text": [
            "Enter the CSV dataset: 10\n",
            "The predicted value for input 10 is 3.5846309109484034e+20\n"
          ]
        }
      ]
    },
    {
      "cell_type": "code",
      "source": [
        "import pandas as pd\n",
        "\n",
        "num_rows, num_columns = df.shape\n",
        "print(f'Number of rows: {num_rows}')\n",
        "print(f'Number of columns: {num_columns}')"
      ],
      "metadata": {
        "colab": {
          "base_uri": "https://localhost:8080/"
        },
        "id": "WrCqINMPsGaC",
        "outputId": "e35d7ed9-742d-4799-d2fb-145fb2134179"
      },
      "execution_count": null,
      "outputs": [
        {
          "output_type": "stream",
          "name": "stdout",
          "text": [
            "Number of rows: 720\n",
            "Number of columns: 24\n"
          ]
        }
      ]
    },
    {
      "cell_type": "code",
      "source": [
        "import pandas as pd\n",
        "\n",
        "count_0 = (df['restartCount'] == 0).sum()\n",
        "count_1 = (df['restartCount'] == 1).sum()\n",
        "print(f\"Number of times 0 appears in 'restartCount': {count_0}\")\n",
        "print(f\"Number of times 1 appears in 'restartCount': {count_1}\")"
      ],
      "metadata": {
        "colab": {
          "base_uri": "https://localhost:8080/"
        },
        "id": "_FydsavXLDUH",
        "outputId": "2aaa9123-836a-4535-ccde-3bab2565ea42"
      },
      "execution_count": null,
      "outputs": [
        {
          "output_type": "stream",
          "name": "stdout",
          "text": [
            "Number of times 0 appears in 'restartCount': 719\n",
            "Number of times 1 appears in 'restartCount': 1\n"
          ]
        }
      ]
    },
    {
      "cell_type": "code",
      "source": [
        "import pandas as pd\n",
        "\n",
        "df['testDuration'] = df['testDuration'].astype(float)\n",
        "total_time = df['testDuration'].sum()\n",
        "print(f'The total time spent on typing is {total_time} seconds.')"
      ],
      "metadata": {
        "colab": {
          "base_uri": "https://localhost:8080/"
        },
        "id": "PmGA09UtoTu6",
        "outputId": "eab053c0-6bcc-4870-e7f4-15b978a418e9"
      },
      "execution_count": null,
      "outputs": [
        {
          "output_type": "stream",
          "name": "stdout",
          "text": [
            "The total time spent on typing is 21964.1 seconds.\n"
          ]
        }
      ]
    },
    {
      "cell_type": "code",
      "source": [
        "import pandas as pd\n",
        "\n",
        "df[['wpm', 'acc', 'testDuration']] = df[['wpm', 'acc', 'testDuration']].astype(float)\n",
        "\n",
        "df_15 = df[df['testDuration'] == 15]\n",
        "df_30 = df[df['testDuration'] == 30]\n",
        "df_60 = df[df['testDuration'] == 60]\n",
        "\n",
        "max_wpm_15 = df_15[df_15['acc'] == df_15['acc'].max()]['wpm'].max()\n",
        "max_wpm_30 = df_30[df_30['acc'] == df_30['acc'].max()]['wpm'].max()\n",
        "max_wpm_60 = df_60[df_60['acc'] == df_60['acc'].max()]['wpm'].max()\n",
        "\n",
        "print(f'The highest accuracy WPM for 15 seconds is {max_wpm_15}')\n",
        "print(f'The highest accuracy WPM for 30 seconds is {max_wpm_30}')\n",
        "print(f'The highest accuracy WPM for 60 seconds is {max_wpm_60}')"
      ],
      "metadata": {
        "colab": {
          "base_uri": "https://localhost:8080/"
        },
        "id": "pz8zh46HptUb",
        "outputId": "52d2f0b0-6a4f-4612-9e88-bbd15a986ad7"
      },
      "execution_count": null,
      "outputs": [
        {
          "output_type": "stream",
          "name": "stdout",
          "text": [
            "The highest accuracy WPM for 15 seconds is 63.99\n",
            "The highest accuracy WPM for 30 seconds is 60.39\n",
            "The highest accuracy WPM for 60 seconds is 52.4\n"
          ]
        }
      ]
    },
    {
      "cell_type": "code",
      "source": [
        "count_100_accuracy = df[df['acc'] == 100].shape[0]\n",
        "print(f'The accuracy is 100 a total of {count_100_accuracy} times.')"
      ],
      "metadata": {
        "colab": {
          "base_uri": "https://localhost:8080/"
        },
        "id": "b4GeV24ymG_T",
        "outputId": "3388ece4-eda8-4cd6-a481-8d55536d6c61"
      },
      "execution_count": null,
      "outputs": [
        {
          "output_type": "stream",
          "name": "stdout",
          "text": [
            "The accuracy is 100 a total of 131 times.\n"
          ]
        }
      ]
    },
    {
      "cell_type": "code",
      "source": [
        "import pandas as pd\n",
        "\n",
        "df_15_sec = df[df['testDuration'] == 15]\n",
        "highest_wpm = df_15_sec['wpm'].max()\n",
        "print(f'The highest WPM in 15 seconds is {highest_wpm}')"
      ],
      "metadata": {
        "colab": {
          "base_uri": "https://localhost:8080/"
        },
        "id": "oazc9BjLwmWw",
        "outputId": "4d16306b-d7b7-4803-dfde-39f20fa64ba5"
      },
      "execution_count": null,
      "outputs": [
        {
          "output_type": "stream",
          "name": "stdout",
          "text": [
            "The highest WPM in 15 seconds is 63.99\n"
          ]
        }
      ]
    },
    {
      "cell_type": "code",
      "source": [
        "import pandas as pd\n",
        "\n",
        "average_wpm = df['wpm'].mean()\n",
        "print(f'The average WPM is {average_wpm:.2f}')"
      ],
      "metadata": {
        "colab": {
          "base_uri": "https://localhost:8080/"
        },
        "id": "PjK1Rv9UxyoS",
        "outputId": "139d6fb1-1d21-47ba-a068-9e01e97cfd65"
      },
      "execution_count": null,
      "outputs": [
        {
          "output_type": "stream",
          "name": "stdout",
          "text": [
            "The average WPM is 49.85\n"
          ]
        }
      ]
    },
    {
      "cell_type": "code",
      "source": [
        "import pandas as pd\n",
        "\n",
        "highest_raw_wpm = df['rawWpm'].max()\n",
        "print(f'The highest raw WPM is {highest_raw_wpm}')"
      ],
      "metadata": {
        "colab": {
          "base_uri": "https://localhost:8080/"
        },
        "id": "laXWVJjcxeqy",
        "outputId": "c03fe3af-19b3-42c6-f21d-6290cec3b7fb"
      },
      "execution_count": null,
      "outputs": [
        {
          "output_type": "stream",
          "name": "stdout",
          "text": [
            "The highest raw WPM is 64.79\n"
          ]
        }
      ]
    },
    {
      "cell_type": "code",
      "source": [
        "import pandas as pd\n",
        "\n",
        "average_raw_wpm = df['rawWpm'].mean()\n",
        "print(f'The average raw WPM is {average_raw_wpm:.2f}')"
      ],
      "metadata": {
        "colab": {
          "base_uri": "https://localhost:8080/"
        },
        "id": "MCN0fa1EyLwS",
        "outputId": "db54a410-5557-4c54-cec7-d15434a9fba7"
      },
      "execution_count": null,
      "outputs": [
        {
          "output_type": "stream",
          "name": "stdout",
          "text": [
            "The average raw WPM is 52.15\n"
          ]
        }
      ]
    },
    {
      "cell_type": "code",
      "source": [
        "import pandas as pd\n",
        "\n",
        "highest_accuracy = df['acc'].max()\n",
        "print(f'The highest accuracy is {highest_accuracy}')"
      ],
      "metadata": {
        "colab": {
          "base_uri": "https://localhost:8080/"
        },
        "id": "cygpBTixz2Cy",
        "outputId": "497fe2e8-f482-4e4b-cd67-801e4d65feb6"
      },
      "execution_count": null,
      "outputs": [
        {
          "output_type": "stream",
          "name": "stdout",
          "text": [
            "The highest accuracy is 100.0\n"
          ]
        }
      ]
    },
    {
      "cell_type": "code",
      "source": [
        "import pandas as pd\n",
        "\n",
        "average_accuracy = df['acc'].mean()\n",
        "print(f'The average accuracy is {average_accuracy:.2f}')"
      ],
      "metadata": {
        "colab": {
          "base_uri": "https://localhost:8080/"
        },
        "id": "t2nYp3ZE1Dx6",
        "outputId": "30a78e00-a430-441e-b989-2e0ce6bfeec5"
      },
      "execution_count": null,
      "outputs": [
        {
          "output_type": "stream",
          "name": "stdout",
          "text": [
            "The average accuracy is 96.87\n"
          ]
        }
      ]
    },
    {
      "cell_type": "code",
      "source": [
        "import pandas as pd\n",
        "\n",
        "highest_consistency = df['consistency'].max()\n",
        "print(f'The highest consistency is {highest_consistency}')"
      ],
      "metadata": {
        "colab": {
          "base_uri": "https://localhost:8080/"
        },
        "id": "fng8OBwH0XRq",
        "outputId": "c4761d17-2a35-4741-e193-1d4bf52322fb"
      },
      "execution_count": null,
      "outputs": [
        {
          "output_type": "stream",
          "name": "stdout",
          "text": [
            "The highest consistency is 84.77\n"
          ]
        }
      ]
    },
    {
      "cell_type": "code",
      "source": [
        "import pandas as pd\n",
        "\n",
        "average_consistency = df['consistency'].mean()\n",
        "print(f'The average consistency is {average_consistency:.2f}')"
      ],
      "metadata": {
        "colab": {
          "base_uri": "https://localhost:8080/"
        },
        "id": "Shbmr8_T0785",
        "outputId": "2db527e1-1f59-4636-d190-116b7acd6432"
      },
      "execution_count": null,
      "outputs": [
        {
          "output_type": "stream",
          "name": "stdout",
          "text": [
            "The average consistency is 72.30\n"
          ]
        }
      ]
    },
    {
      "cell_type": "code",
      "source": [
        "import pandas as pd\n",
        "\n",
        "df['timestamp'] = pd.to_datetime(df['timestamp'], unit='ms')\n",
        "df['date'] = df['timestamp'].dt.date\n",
        "typing_dates = df['date'].unique()\n",
        "all_dates = pd.date_range(start=min(typing_dates), end=max(typing_dates))\n",
        "missed_dates = all_dates.difference(typing_dates)\n",
        "\n",
        "print('Dates with missed typing:')\n",
        "for date in missed_dates:\n",
        "    print(date.strftime('%Y-%m-%d'))"
      ],
      "metadata": {
        "colab": {
          "base_uri": "https://localhost:8080/"
        },
        "id": "A8qIBJZV1_R6",
        "outputId": "3dce8af5-85e1-4523-f1f6-6314ef3bed35"
      },
      "execution_count": null,
      "outputs": [
        {
          "output_type": "stream",
          "name": "stdout",
          "text": [
            "Dates with missed typing:\n",
            "2024-02-21\n",
            "2024-02-22\n",
            "2024-03-02\n",
            "2024-03-05\n",
            "2024-03-06\n",
            "2024-03-07\n",
            "2024-03-08\n",
            "2024-03-13\n",
            "2024-03-14\n",
            "2024-03-17\n",
            "2024-03-19\n",
            "2024-03-23\n",
            "2024-03-26\n",
            "2024-03-27\n",
            "2024-03-30\n",
            "2024-04-05\n",
            "2024-04-07\n",
            "2024-04-08\n",
            "2024-04-11\n",
            "2024-04-12\n",
            "2024-04-13\n",
            "2024-04-14\n",
            "2024-04-22\n",
            "2024-04-23\n",
            "2024-04-24\n",
            "2024-04-25\n"
          ]
        }
      ]
    },
    {
      "cell_type": "code",
      "source": [
        "import pandas as pd\n",
        "import matplotlib.pyplot as plt\n",
        "\n",
        "df['timestamp'] = pd.to_datetime(df['timestamp'], unit='ms')\n",
        "\n",
        "plt.figure(figsize=(10, 6))\n",
        "plt.bar(df['timestamp'], df['consistency'], color='red', width=0.5)\n",
        "plt.xlabel('Date (x)')\n",
        "plt.ylabel('Consistency (y)')\n",
        "plt.title('CONSISTENCY OVER TIME')\n",
        "plt.show()"
      ],
      "metadata": {
        "colab": {
          "base_uri": "https://localhost:8080/",
          "height": 564
        },
        "id": "uPAWT3M_1nki",
        "outputId": "16d7bda7-0055-4b32-d3a7-ccbaadbbff94"
      },
      "execution_count": null,
      "outputs": [
        {
          "output_type": "display_data",
          "data": {
            "text/plain": [
              "<Figure size 1000x600 with 1 Axes>"
            ],
            "image/png": "[encoded data removed]"
          },
          "metadata": {}
        }
      ]
    },
    {
      "cell_type": "code",
      "source": [
        "import pandas as pd\n",
        "import matplotlib.pyplot as plt\n",
        "\n",
        "df['timestamp'] = pd.to_datetime(df['timestamp'], unit='ms')\n",
        "\n",
        "plt.figure(figsize=(10, 6))\n",
        "plt.scatter(df['timestamp'], df['consistency'], color='green', marker='.', s=30)\n",
        "plt.xlabel('Date (x)')\n",
        "plt.ylabel('Consistency (y)')\n",
        "plt.title('CONSISTENCY OVER TIME')\n",
        "plt.show()"
      ],
      "metadata": {
        "colab": {
          "base_uri": "https://localhost:8080/",
          "height": 564
        },
        "id": "YMM17FFm4pHY",
        "outputId": "9dd2a8bb-3b83-4b4f-e300-a482f3506e2f"
      },
      "execution_count": null,
      "outputs": [
        {
          "output_type": "display_data",
          "data": {
            "text/plain": [
              "<Figure size 1000x600 with 1 Axes>"
            ],
            "image/png": "[encoded data removed]"
          },
          "metadata": {}
        }
      ]
    }
  ]
}